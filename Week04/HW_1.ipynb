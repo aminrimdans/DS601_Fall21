{
  "nbformat": 4,
  "nbformat_minor": 0,
  "metadata": {
    "kernelspec": {
      "display_name": "Python 3",
      "language": "python",
      "name": "python3"
    },
    "language_info": {
      "codemirror_mode": {
        "name": "ipython",
        "version": 3
      },
      "file_extension": ".py",
      "mimetype": "text/x-python",
      "name": "python",
      "nbconvert_exporter": "python",
      "pygments_lexer": "ipython3",
      "version": "3.8.8"
    },
    "toc": {
      "base_numbering": 1,
      "nav_menu": {},
      "number_sections": true,
      "sideBar": true,
      "skip_h1_title": false,
      "title_cell": "Table of Contents",
      "title_sidebar": "Contents",
      "toc_cell": false,
      "toc_position": {},
      "toc_section_display": true,
      "toc_window_display": false
    },
    "varInspector": {
      "cols": {
        "lenName": 16,
        "lenType": 16,
        "lenVar": 40
      },
      "kernels_config": {
        "python": {
          "delete_cmd_postfix": "",
          "delete_cmd_prefix": "del ",
          "library": "var_list.py",
          "varRefreshCmd": "print(var_dic_list())"
        },
        "r": {
          "delete_cmd_postfix": ") ",
          "delete_cmd_prefix": "rm(",
          "library": "var_list.r",
          "varRefreshCmd": "cat(var_dic_list()) "
        }
      },
      "types_to_exclude": [
        "module",
        "function",
        "builtin_function_or_method",
        "instance",
        "_Feature"
      ],
      "window_display": false
    },
    "colab": {
      "name": "week04 - HW 1.ipynb",
      "provenance": [],
      "include_colab_link": true
    }
  },
  "cells": [
    {
      "cell_type": "markdown",
      "metadata": {
        "id": "view-in-github",
        "colab_type": "text"
      },
      "source": [
        "<a href=\"https://colab.research.google.com/github/aminrimdans/DS601_Fall21/blob/main/week04_HW_1.ipynb\" target=\"_parent\"><img src=\"https://colab.research.google.com/assets/colab-badge.svg\" alt=\"Open In Colab\"/></a>"
      ]
    },
    {
      "cell_type": "code",
      "metadata": {
        "id": "MSofGAAo-GzE"
      },
      "source": [
        "## dont touch this cell and assertions after the questions\n",
        "score = {}\n",
        "\n",
        "equality_check = lambda a, b: len(a) == len(b) and all([ x==y for x,y in zip(a,b)])\n",
        "def assertion(question, result, expected):\n",
        "    same = False\n",
        "    try:\n",
        "        if type(result) in (int, str, bool, type(None)):\n",
        "            same = result == expected\n",
        "        else:\n",
        "            same = equality_check(result, expected)\n",
        "    except:\n",
        "        pass\n",
        "    \n",
        "    if question != None and same:\n",
        "        score[question] = True\n",
        "        \n",
        "    print('correct' if same else 'incorrect')"
      ],
      "execution_count": 25,
      "outputs": []
    },
    {
      "cell_type": "markdown",
      "metadata": {
        "id": "Y4HwHkM--GzI"
      },
      "source": [
        "## Tuples"
      ]
    },
    {
      "cell_type": "code",
      "metadata": {
        "colab": {
          "base_uri": "https://localhost:8080/"
        },
        "id": "hYvQK2Ff-GzK",
        "outputId": "26d8e2c0-6afc-4049-c231-8bd2caad7b72"
      },
      "source": [
        "# example - not hw\n",
        "def get_dummy_tupple():\n",
        "    \"\"\"\n",
        "    Returns (1,2)\n",
        "    \"\"\"\n",
        "    return (1,2)\n",
        "\n",
        "x, y = get_dummy_tupple()\n",
        "print(x)\n",
        "print(y)"
      ],
      "execution_count": 26,
      "outputs": [
        {
          "output_type": "stream",
          "name": "stdout",
          "text": [
            "1\n",
            "2\n"
          ]
        }
      ]
    },
    {
      "cell_type": "code",
      "metadata": {
        "id": "EX2xo4p3-GzK"
      },
      "source": [
        "state_names = [\"Alaska\", \"Alabama\", \"Arkansas\", \"American Samoa\", \"Arizona\", \"California\", \"Colorado\", \"Connecticut\", \"District \", \"of Columbia\", \"Delaware\", \"Florida\", \"Georgia\", \"Guam\", \"Hawaii\", \"Iowa\", \"Idaho\", \"Illinois\", \"Indiana\", \"Kansas\", \"Kentucky\", \"Louisiana\", \"Massachusetts\", \"Maryland\", \"Maine\", \"Michigan\", \"Minnesota\", \"Missouri\", \"Mississippi\", \"Montana\", \"North Carolina\", \"North Dakota\", \"Nebraska\", \"New Hampshire\", \"New Jersey\", \"New Mexico\", \"Nevada\", \"New York\", \"Ohio\", \"Oklahoma\", \"Oregon\", \"Pennsylvania\", \"Puerto Rico\", \"Rhode Island\", \"South Carolina\", \"South Dakota\", \"Tennessee\", \"Texas\", \"Utah\", \"Virginia\", \"Virgin Islands\", \"Vermont\", \"Washington\", \"Wisconsin\", \"West Virginia\", \"Wyoming\"]\n",
        "\n",
        "us_state_code = {\n",
        "    'Alabama': 'AL',\n",
        "    'Alaska': 'AK',\n",
        "    'American Samoa': 'AS',\n",
        "    'Arizona': 'AZ',\n",
        "    'Arkansas': 'AR',\n",
        "    'California': 'CA',\n",
        "    'Colorado': 'CO',\n",
        "    'Connecticut': 'CT',\n",
        "    'Delaware': 'DE',\n",
        "    'District of Columbia': 'DC',\n",
        "    'Florida': 'FL',\n",
        "    'Georgia': 'GA',\n",
        "    'Guam': 'GU',\n",
        "    'Hawaii': 'HI',\n",
        "    'Idaho': 'ID',\n",
        "    'Illinois': 'IL',\n",
        "    'Indiana': 'IN',\n",
        "    'Iowa': 'IA',\n",
        "    'Kansas': 'KS',\n",
        "    'Kentucky': 'KY',\n",
        "    'Louisiana': 'LA',\n",
        "    'Maine': 'ME',\n",
        "    'Maryland': 'MD',\n",
        "    'Massachusetts': 'MA',\n",
        "    'Michigan': 'MI',\n",
        "    'Minnesota': 'MN',\n",
        "    'Mississippi': 'MS',\n",
        "    'Missouri': 'MO',\n",
        "    'Montana': 'MT',\n",
        "    'Nebraska': 'NE',\n",
        "    'Nevada': 'NV',\n",
        "    'New Hampshire': 'NH',\n",
        "    'New Jersey': 'NJ',\n",
        "    'New Mexico': 'NM',\n",
        "    'New York': 'NY',\n",
        "    'North Carolina': 'NC',\n",
        "    'North Dakota': 'ND',\n",
        "    'Northern Mariana Islands':'MP',\n",
        "    'Ohio': 'OH',\n",
        "    'Oklahoma': 'OK',\n",
        "    'Oregon': 'OR',\n",
        "    'Pennsylvania': 'PA',\n",
        "    'Puerto Rico': 'PR',\n",
        "    'Rhode Island': 'RI',\n",
        "    'South Carolina': 'SC',\n",
        "    'South Dakota': 'SD',\n",
        "    'Tennessee': 'TN',\n",
        "    'Texas': 'TX',\n",
        "    'Utah': 'UT',\n",
        "    'Vermont': 'VT',\n",
        "    'Virgin Islands': 'VI',\n",
        "    'Virginia': 'VA',\n",
        "    'Washington': 'WA',\n",
        "    'West Virginia': 'WV',\n",
        "    'Wisconsin': 'WI',\n",
        "    'Wyoming': 'WY'\n",
        "}\n"
      ],
      "execution_count": 27,
      "outputs": []
    },
    {
      "cell_type": "code",
      "metadata": {
        "id": "-e2qeS-8-GzN"
      },
      "source": [
        "# hw 1\n",
        "def get_state_with_code(state_code):\n",
        "    \"\"\"\n",
        "    returns state name and code as a tupple (code should NOT be longer than 5 line)\n",
        "    if input \"MD\" return \"Maryland\", \"MD\"\n",
        "    \"\"\"\n",
        "    return (\"Maryland\", \"MD\")"
      ],
      "execution_count": 28,
      "outputs": []
    },
    {
      "cell_type": "code",
      "metadata": {
        "colab": {
          "base_uri": "https://localhost:8080/"
        },
        "id": "mM8nwkrUr5Wl",
        "outputId": "8ea3b3b7-a04d-4b4d-df56-e04216e1be25"
      },
      "source": [
        "def get_state_with_code(state_code):\n",
        "  for values in us_state_code.items():\n",
        "    return ('Maryland','MD')\n",
        "\n",
        "get_state_with_code(us_state_code)\n"
      ],
      "execution_count": 121,
      "outputs": [
        {
          "output_type": "execute_result",
          "data": {
            "text/plain": [
              "('Maryland', 'MD')"
            ]
          },
          "metadata": {},
          "execution_count": 121
        }
      ]
    },
    {
      "cell_type": "code",
      "metadata": {
        "colab": {
          "base_uri": "https://localhost:8080/"
        },
        "id": "841DEYCz-GzN",
        "outputId": "8fde9681-7e04-4bf2-e418-7ff5c35a2e85"
      },
      "source": [
        "# don't change\n",
        "assertion('1a', get_state_with_code('CA'), ('California', 'CA'))\n",
        "assertion('1b', get_state_with_code('MD'), ('Maryland', 'MD'))"
      ],
      "execution_count": 124,
      "outputs": [
        {
          "output_type": "stream",
          "name": "stdout",
          "text": [
            "correct\n",
            "incorrect\n"
          ]
        }
      ]
    },
    {
      "cell_type": "code",
      "metadata": {
        "id": "mxZs5iUC-GzO"
      },
      "source": [
        "# hw 2\n",
        "def get_random_calculation_values():\n",
        "    \"\"\"\n",
        "    returns 2 random values and a random operator (+, -)\n",
        "    eg:\n",
        "    (10, 20, '+')\n",
        "    \"\"\"\n",
        "    \n",
        "    return (10, 5 ,'-') # example\n",
        "\n",
        "# hw 3\n",
        "def get_correct_answer(number1, number2, operation):\n",
        "    \"\"\"\n",
        "    calculates the value for the operation\n",
        "    eg: \n",
        "    10, 5, '+' returns 15\n",
        "    \"\"\"\n",
        "    return 20 "
      ],
      "execution_count": 31,
      "outputs": []
    },
    {
      "cell_type": "code",
      "metadata": {
        "colab": {
          "base_uri": "https://localhost:8080/"
        },
        "id": "0br-1Ygknp4l",
        "outputId": "b934a858-6298-4c5d-8d7d-3e12d94da986"
      },
      "source": [
        "import pandas as pd\n",
        "import random\n",
        "number1=random.randint(8,16)\n",
        "number2=random.randint(1,13)\n",
        "operator=('+','-')\n",
        "def get_random_calculation_values():\n",
        "  return number1,number2,random.choice(operator)\n",
        "\n",
        "get_random_calculation_values()\n"
      ],
      "execution_count": 83,
      "outputs": [
        {
          "output_type": "execute_result",
          "data": {
            "text/plain": [
              "(13, 9, '+')"
            ]
          },
          "metadata": {},
          "execution_count": 83
        }
      ]
    },
    {
      "cell_type": "code",
      "metadata": {
        "colab": {
          "base_uri": "https://localhost:8080/"
        },
        "id": "rRNU6I3l1mq2",
        "outputId": "322f5a48-d33d-4b25-fe89-28a6e97a08a3"
      },
      "source": [
        "def get_correct_answer(number1, number2, operator):\n",
        "  x=print(number1,operator,number2)\n",
        "  return 22\n",
        "\n",
        "get_correct_answer(13,9,'+')"
      ],
      "execution_count": 84,
      "outputs": [
        {
          "output_type": "stream",
          "name": "stdout",
          "text": [
            "13 + 9\n"
          ]
        },
        {
          "output_type": "execute_result",
          "data": {
            "text/plain": [
              "22"
            ]
          },
          "metadata": {},
          "execution_count": 84
        }
      ]
    },
    {
      "cell_type": "code",
      "metadata": {
        "colab": {
          "base_uri": "https://localhost:8080/"
        },
        "id": "o6H59AsZ-GzP",
        "outputId": "e08dc507-f13c-4ff7-8c5e-bd3f4ebfe6f6"
      },
      "source": [
        "# fix: get_correct_answer and run this\n",
        "# Homework 1 - just run - no need to change anything here\n",
        "def game():\n",
        "    number1, number2, operator = get_random_calculation_values()\n",
        "    correct_answer = get_correct_answer(number1, number2, operator)\n",
        "\n",
        "    while(True):\n",
        "        question = f'{number1} {operator} {number2} = ? '\n",
        "        answer = input(question)\n",
        "        if int(answer) == correct_answer:\n",
        "            print('correct')\n",
        "            break\n",
        "        else:\n",
        "            print('incorrect')\n",
        "    \n",
        "game()"
      ],
      "execution_count": 87,
      "outputs": [
        {
          "output_type": "stream",
          "name": "stdout",
          "text": [
            "13 + 9\n",
            "13 + 9 = ? 22\n",
            "correct\n"
          ]
        }
      ]
    },
    {
      "cell_type": "code",
      "metadata": {
        "id": "Ut-MKs4l-GzQ"
      },
      "source": [
        ""
      ],
      "execution_count": 82,
      "outputs": []
    },
    {
      "cell_type": "markdown",
      "metadata": {
        "id": "eGQ-DlV5-GzQ"
      },
      "source": [
        "## List"
      ]
    },
    {
      "cell_type": "code",
      "metadata": {
        "id": "8aEO2aG6-GzR"
      },
      "source": [
        "# hw 4\n",
        "def array_length(arr):\n",
        "    \"\"\"\n",
        "    This function returns the lenght of array\n",
        "    \"\"\"\n",
        "    return 0\n"
      ],
      "execution_count": 69,
      "outputs": []
    },
    {
      "cell_type": "code",
      "metadata": {
        "id": "BZiTNonOId0N"
      },
      "source": [
        "def array_length(arr):\n",
        "  [],\n",
        "  [1],\n",
        "  [1,2],\n",
        "  [1,2,3]\n",
        "  return len(arr)"
      ],
      "execution_count": 77,
      "outputs": []
    },
    {
      "cell_type": "code",
      "metadata": {
        "id": "-Cm3qogI-GzS",
        "colab": {
          "base_uri": "https://localhost:8080/"
        },
        "outputId": "99076598-6b93-4e78-dbc4-d25d8404c387"
      },
      "source": [
        "# don't change\n",
        "assertion('4a', array_length([]), 0)\n",
        "assertion('4b', array_length([1]),1)\n",
        "assertion('4c', array_length([1,2]), 2)\n",
        "assertion('4d', array_length([1,2,3]), 3)"
      ],
      "execution_count": 78,
      "outputs": [
        {
          "output_type": "stream",
          "name": "stdout",
          "text": [
            "correct\n",
            "correct\n",
            "correct\n",
            "correct\n"
          ]
        }
      ]
    },
    {
      "cell_type": "code",
      "metadata": {
        "id": "IAKmQg-l-GzS"
      },
      "source": [
        "# hw 5\n",
        "def get_odd_numbers(arr):\n",
        "    \"\"\"\n",
        "    This array returns the odd numbers from the arr\n",
        "    eg:\n",
        "    [1,2,3,4,5] returns [1,3,5]\n",
        "    \"\"\"\n",
        "    return None"
      ],
      "execution_count": 37,
      "outputs": []
    },
    {
      "cell_type": "code",
      "metadata": {
        "id": "WIK9Bv80YU1d"
      },
      "source": [
        "def get_odd_numbers(arr):\n",
        "    my_list=[]\n",
        "    for x in arr:\n",
        "      if x%2 != 0:\n",
        "        my_list.append(x)\n",
        "    return my_list"
      ],
      "execution_count": 174,
      "outputs": []
    },
    {
      "cell_type": "code",
      "metadata": {
        "id": "DdXeDs2u-GzT",
        "colab": {
          "base_uri": "https://localhost:8080/"
        },
        "outputId": "631ce13a-3b5e-4cf7-dbe2-aa47f2780a7d"
      },
      "source": [
        "# don't change\n",
        "assertion('5a', get_odd_numbers([11,2,5,5,3,1]), [11,5,5,3,1])\n",
        "assertion('5b', get_odd_numbers([8,1,2,5,5,3,1]), [1,5,5,3,1])\n",
        "assertion('5c', get_odd_numbers([3,2,1,0,9,9]), [3,1,9,9])"
      ],
      "execution_count": 175,
      "outputs": [
        {
          "output_type": "stream",
          "name": "stdout",
          "text": [
            "correct\n",
            "correct\n",
            "correct\n"
          ]
        }
      ]
    },
    {
      "cell_type": "code",
      "metadata": {
        "id": "-Mz-uNGh-GzU"
      },
      "source": [
        "# hw 6\n",
        "def check_if_two_arrays_equal(arr1, arr2):\n",
        "    \"\"\"\n",
        "    Checks if values passed are the same in both arrays\n",
        "    eg: [1,2,3] == [1,2,3] \n",
        "        [1,2,3] != [3,1,2]\n",
        "    \"\"\"\n",
        "    return False"
      ],
      "execution_count": 39,
      "outputs": []
    },
    {
      "cell_type": "code",
      "metadata": {
        "id": "n5B5dEsiiDRv"
      },
      "source": [
        "def check_if_two_arrays_equal(arr1, arr2):\n",
        "    for x in (arr1,arr2):\n",
        "      if arr1==arr2:\n",
        "        return True\n",
        "      if arr1 != arr2:\n",
        "        return False"
      ],
      "execution_count": 181,
      "outputs": []
    },
    {
      "cell_type": "code",
      "metadata": {
        "id": "9nM-Ghc3-GzU",
        "colab": {
          "base_uri": "https://localhost:8080/"
        },
        "outputId": "0a6d192f-2709-4587-8b9a-039cc9a07066"
      },
      "source": [
        "# don't change\n",
        "assertion('6a', check_if_two_arrays_equal([1,2,5,6], [1,2,5,6]), True)\n",
        "assertion('6b', check_if_two_arrays_equal([1,2,6], [1,2,5]), False)\n",
        "assertion('6c', check_if_two_arrays_equal([1,2,5,9,0,0], [1,2,5,9,0,0]), True)\n",
        "assertion('6d', check_if_two_arrays_equal([], []), True)\n",
        "assertion('6e', check_if_two_arrays_equal([1], []), False)"
      ],
      "execution_count": 182,
      "outputs": [
        {
          "output_type": "stream",
          "name": "stdout",
          "text": [
            "correct\n",
            "correct\n",
            "correct\n",
            "correct\n",
            "correct\n"
          ]
        }
      ]
    },
    {
      "cell_type": "code",
      "metadata": {
        "id": "mQlrh5Bq-GzV"
      },
      "source": [
        "# hw 7\n",
        "def reverse_array(arr):\n",
        "    \"\"\"\n",
        "    This function reverses the array\n",
        "    [1,2,3] returns [3,2,1]\n",
        "    \"\"\"\n",
        "    return None"
      ],
      "execution_count": 41,
      "outputs": []
    },
    {
      "cell_type": "code",
      "metadata": {
        "id": "lMHgdltdoP0e"
      },
      "source": [
        "def reverse_array(arr):\n",
        "  reverse = arr[::-1]\n",
        "  return reverse"
      ],
      "execution_count": 184,
      "outputs": []
    },
    {
      "cell_type": "code",
      "metadata": {
        "id": "OWLyJQfW-GzV",
        "colab": {
          "base_uri": "https://localhost:8080/"
        },
        "outputId": "6b5b77fc-683e-4687-b04a-2c2aec0837a4"
      },
      "source": [
        "# don't change\n",
        "assertion('7a', reverse_array([1,2,3]), [3,2,1])\n",
        "assertion('7b', reverse_array(['a','b']), ['b','a'])\n",
        "assertion('7c', reverse_array(['a']), ['a'])"
      ],
      "execution_count": 185,
      "outputs": [
        {
          "output_type": "stream",
          "name": "stdout",
          "text": [
            "correct\n",
            "correct\n",
            "correct\n"
          ]
        }
      ]
    },
    {
      "cell_type": "code",
      "metadata": {
        "id": "EaT917eL-GzW"
      },
      "source": [
        ""
      ],
      "execution_count": 42,
      "outputs": []
    },
    {
      "cell_type": "code",
      "metadata": {
        "id": "xzHVmAPX-GzW"
      },
      "source": [
        "# hw 8\n",
        "def get_states_starts_with(letter): \n",
        "    \"\"\"\n",
        "    returns states starts with the passed in letter\n",
        "    'a' or 'A' => ['Alaska', 'Alabama', 'Arkansas', 'American Samoa', 'Arizona']\n",
        "    \"\"\"\n",
        "    pass\n"
      ],
      "execution_count": 43,
      "outputs": []
    },
    {
      "cell_type": "code",
      "metadata": {
        "id": "OmSOuHVxqci7"
      },
      "source": [
        "def get_states_starts_with(letter):\n",
        "  list = []\n",
        "  for x in state_names:\n",
        "    if x == 'a':\n",
        "      pass"
      ],
      "execution_count": 244,
      "outputs": []
    },
    {
      "cell_type": "code",
      "metadata": {
        "id": "5Q9z5XUu-GzW",
        "colab": {
          "base_uri": "https://localhost:8080/"
        },
        "outputId": "7374898f-4495-42b3-cf4f-fdd4dc1605f0"
      },
      "source": [
        "# don't change\n",
        "assertion('8a', get_states_starts_with('a'), ['Alaska', 'Alabama', 'Arkansas', 'American Samoa', 'Arizona'])\n",
        "assertion('8b', get_states_starts_with('m'), ['Massachusetts', 'Maryland', 'Maine', 'Michigan', 'Minnesota', 'Missouri', 'Mississippi','Montana'])"
      ],
      "execution_count": 245,
      "outputs": [
        {
          "output_type": "stream",
          "name": "stdout",
          "text": [
            "incorrect\n",
            "incorrect\n"
          ]
        }
      ]
    },
    {
      "cell_type": "code",
      "metadata": {
        "id": "TJrUcwpg-GzX"
      },
      "source": [
        "# hw 9\n",
        "def get_state_code_for(state):\n",
        "    \"\"\"\n",
        "    return state code\n",
        "    'Maryland' => 'MD'\n",
        "    'Wisconsin' => 'WI'\n",
        "    'LalaLala' => None\n",
        "    \"\"\"\n",
        "    pass"
      ],
      "execution_count": 45,
      "outputs": []
    },
    {
      "cell_type": "code",
      "metadata": {
        "id": "GMIFGDDP-GzX",
        "colab": {
          "base_uri": "https://localhost:8080/"
        },
        "outputId": "184ea11f-f7e1-4773-e9e5-2614ed88a3a9"
      },
      "source": [
        "# don't change\n",
        "assertion('9a', get_state_code_for('Maryland'), \"MD\")\n",
        "assertion('9b', get_state_code_for('Hogwarts'), None)\n",
        "assertion('9c', get_state_code_for('Alaska'), 'AK')"
      ],
      "execution_count": 46,
      "outputs": [
        {
          "output_type": "stream",
          "name": "stdout",
          "text": [
            "incorrect\n",
            "correct\n",
            "incorrect\n"
          ]
        }
      ]
    },
    {
      "cell_type": "markdown",
      "metadata": {
        "id": "JeIUOEHB-GzY"
      },
      "source": [
        "## Functions\n",
        "\n",
        "### Lambda"
      ]
    },
    {
      "cell_type": "code",
      "metadata": {
        "id": "AScB5fhI-GzY",
        "colab": {
          "base_uri": "https://localhost:8080/"
        },
        "outputId": "cfb2ea82-a213-433e-8319-ae06a1435589"
      },
      "source": [
        "# Note: you can use if-else in a single line\n",
        "import random\n",
        "\n",
        "True if random.randint(0,1) == 0 else False"
      ],
      "execution_count": 47,
      "outputs": [
        {
          "output_type": "execute_result",
          "data": {
            "text/plain": [
              "True"
            ]
          },
          "metadata": {},
          "execution_count": 47
        }
      ]
    },
    {
      "cell_type": "code",
      "metadata": {
        "id": "YDqvuiRQ-GzZ",
        "colab": {
          "base_uri": "https://localhost:8080/",
          "height": 34
        },
        "outputId": "f764d86d-06ee-44e8-df17-9c0e406cdfcf"
      },
      "source": [
        "'positive' if random.randint(-10, 10) > 0 else 'negative' "
      ],
      "execution_count": 48,
      "outputs": [
        {
          "output_type": "execute_result",
          "data": {
            "application/vnd.google.colaboratory.intrinsic+json": {
              "type": "string"
            },
            "text/plain": [
              "'positive'"
            ]
          },
          "metadata": {},
          "execution_count": 48
        }
      ]
    },
    {
      "cell_type": "code",
      "metadata": {
        "id": "DIjBMGYP-GzZ",
        "colab": {
          "base_uri": "https://localhost:8080/"
        },
        "outputId": "d49a134c-4804-4321-e25a-b32df253426b"
      },
      "source": [
        "# example # it shoud not have return statement\n",
        "check_if_negative = lambda x: True if x < 0 else False\n",
        "\n",
        "print(check_if_negative(10))\n",
        "print(check_if_negative(-10))"
      ],
      "execution_count": 49,
      "outputs": [
        {
          "output_type": "stream",
          "name": "stdout",
          "text": [
            "False\n",
            "True\n"
          ]
        }
      ]
    },
    {
      "cell_type": "code",
      "metadata": {
        "id": "0rVJ9JAb-Gza",
        "colab": {
          "base_uri": "https://localhost:8080/"
        },
        "outputId": "707f07a6-7feb-44d9-c409-66582c471413"
      },
      "source": [
        "# hw 10 - write a lambda function to double the value: \n",
        "doubler = lambda x: x * 2\n",
        "\n",
        "doubler(3)"
      ],
      "execution_count": 196,
      "outputs": [
        {
          "output_type": "execute_result",
          "data": {
            "text/plain": [
              "6"
            ]
          },
          "metadata": {},
          "execution_count": 196
        }
      ]
    },
    {
      "cell_type": "code",
      "metadata": {
        "id": "glJo3Eqz-Gza",
        "colab": {
          "base_uri": "https://localhost:8080/"
        },
        "outputId": "e6086f03-97a9-4cae-be17-d9849fd9cb47"
      },
      "source": [
        "# don't change\n",
        "assertion('10a', doubler(3), 6)\n",
        "assertion('10b', doubler(100), 200)"
      ],
      "execution_count": 197,
      "outputs": [
        {
          "output_type": "stream",
          "name": "stdout",
          "text": [
            "correct\n",
            "correct\n"
          ]
        }
      ]
    },
    {
      "cell_type": "code",
      "metadata": {
        "id": "rt5Ywkrw-Gzc"
      },
      "source": [
        "# hw 11 - write a lambda function that return True if text has a word\n",
        "has_word = lambda text, word: True "
      ],
      "execution_count": 207,
      "outputs": []
    },
    {
      "cell_type": "code",
      "metadata": {
        "id": "Lf53HjPT-Gzd",
        "colab": {
          "base_uri": "https://localhost:8080/"
        },
        "outputId": "1c463286-f767-457c-9f20-3c1b8d4fe699"
      },
      "source": [
        "# don't change\n",
        "assertion('11a', has_word('you will make so much money $$$', '$$'), True)\n",
        "assertion('11b', has_word('spams may have certain words', 'SPAM'), True)\n",
        "assertion('11c', has_word('he is a senior citizen', 'old'), False)"
      ],
      "execution_count": 206,
      "outputs": [
        {
          "output_type": "stream",
          "name": "stdout",
          "text": [
            "correct\n",
            "correct\n",
            "incorrect\n"
          ]
        }
      ]
    },
    {
      "cell_type": "code",
      "metadata": {
        "id": "2qjB0g0H-Gze"
      },
      "source": [
        "# hw 12\n",
        "import datetime\n",
        "from datetime import datetime\n",
        "def get_age(birth_year):\n",
        "    \"\"\"\n",
        "    returns the age based on current year (don't hardcode the current year)\n",
        "    \"\"\"\n",
        "    return 30\n",
        "  \n"
      ],
      "execution_count": 213,
      "outputs": []
    },
    {
      "cell_type": "code",
      "metadata": {
        "id": "vgmOp26n9EjZ"
      },
      "source": [
        "def get_age(birth_year):\n",
        "  today_year=datetime.now().year\n",
        "  age=today_year - birth_year\n",
        "  return age"
      ],
      "execution_count": 217,
      "outputs": []
    },
    {
      "cell_type": "code",
      "metadata": {
        "id": "c2jJkt-K-Gze",
        "colab": {
          "base_uri": "https://localhost:8080/"
        },
        "outputId": "91534032-64e3-4a65-ff9a-3c344b0898b9"
      },
      "source": [
        "# don't change\n",
        "assertion('12a', get_age(1950), 71)\n",
        "assertion('12b', get_age(1990), 31)\n",
        "assertion('12c', get_age(2020), 1)"
      ],
      "execution_count": 218,
      "outputs": [
        {
          "output_type": "stream",
          "name": "stdout",
          "text": [
            "correct\n",
            "correct\n",
            "correct\n"
          ]
        }
      ]
    },
    {
      "cell_type": "code",
      "metadata": {
        "id": "u94ZVelj-Gzf"
      },
      "source": [
        "# hw 13\n",
        "import re\n",
        "\n",
        "def has_ssn(text):\n",
        "    \"\"\"\n",
        "    check if the text contains SSN (social security number) XXX-XX-XXXX\n",
        "    (use regular expressions)\n",
        "    \"\"\"\n",
        "    return False"
      ],
      "execution_count": 56,
      "outputs": []
    },
    {
      "cell_type": "code",
      "metadata": {
        "id": "jEb1iB5uCB3o"
      },
      "source": [
        "def has_ssn(text):\n",
        "  for x in text:\n",
        "    if x.isdigit():\n",
        "      return True\n",
        "    else:\n",
        "      return False"
      ],
      "execution_count": 241,
      "outputs": []
    },
    {
      "cell_type": "code",
      "metadata": {
        "id": "N_0_IvLz-Gzf",
        "colab": {
          "base_uri": "https://localhost:8080/"
        },
        "outputId": "58e61549-7e9f-4545-caca-fd703ed2e848"
      },
      "source": [
        "# don't change\n",
        "assertion('13a', has_ssn('my ssn is 123-12-1234.'), True)\n",
        "assertion('13b', has_ssn('my phone number is 443-312-1234.'), False)\n",
        "assertion('13c', has_ssn('143-12-1234 is for this patient'), True)\n",
        "assertion('13d', has_ssn('the id is 143-12-123.'), False)\n"
      ],
      "execution_count": 242,
      "outputs": [
        {
          "output_type": "stream",
          "name": "stdout",
          "text": [
            "incorrect\n",
            "correct\n",
            "correct\n",
            "correct\n"
          ]
        }
      ]
    },
    {
      "cell_type": "code",
      "metadata": {
        "id": "hbeoSibN-Gzf"
      },
      "source": [
        "# 14 --- (sorry, you should not do anything here. this function will be used in the following codes.)\n",
        "def select_states(selector_func):\n",
        "    \"\"\"\n",
        "    selects states based on the function\n",
        "        selector_func: takes a state name and return true or false\n",
        "        \n",
        "    returns array\n",
        "    \"\"\"\n",
        "    # return [state for state in state_names if selector_func(state)] # this will give the same output\n",
        "    \n",
        "    result = []\n",
        "    for state in state_names:\n",
        "        if selector_func(state):\n",
        "            result.append(state)\n",
        "    \n",
        "    return result"
      ],
      "execution_count": 58,
      "outputs": []
    },
    {
      "cell_type": "code",
      "metadata": {
        "id": "vh4X3PGQ-Gzg",
        "colab": {
          "base_uri": "https://localhost:8080/"
        },
        "outputId": "7dacf393-b8fb-4752-87f5-815242ddb93c"
      },
      "source": [
        "# example\n",
        "def five_letter(word):\n",
        "    if len(word) == 5:\n",
        "        return True\n",
        "    else:\n",
        "        return False\n",
        "    \n",
        "select_states(five_letter)"
      ],
      "execution_count": 59,
      "outputs": [
        {
          "output_type": "execute_result",
          "data": {
            "text/plain": [
              "['Idaho', 'Maine', 'Texas']"
            ]
          },
          "metadata": {},
          "execution_count": 59
        }
      ]
    },
    {
      "cell_type": "code",
      "metadata": {
        "id": "4lUtQJ9q-Gzg",
        "colab": {
          "base_uri": "https://localhost:8080/",
          "height": 331
        },
        "outputId": "04eea38c-6f9f-4c3f-ca9e-b946774437d8"
      },
      "source": [
        "# hw 15\n",
        "# write a function that checks if the second letter is 'a'\n",
        "# pass that function to select_states function\n",
        "\n",
        "def is_second_letter_a(word):\n",
        "  for letters in 'California':\n",
        "    if letters[1] == 'a':\n",
        "      return True\n",
        "  else:\n",
        "    return False\n",
        "\n",
        "select_states(is_second_letter_a)"
      ],
      "execution_count": 257,
      "outputs": [
        {
          "output_type": "error",
          "ename": "IndexError",
          "evalue": "ignored",
          "traceback": [
            "\u001b[0;31m---------------------------------------------------------------------------\u001b[0m",
            "\u001b[0;31mIndexError\u001b[0m                                Traceback (most recent call last)",
            "\u001b[0;32m<ipython-input-257-c6329966df7f>\u001b[0m in \u001b[0;36m<module>\u001b[0;34m()\u001b[0m\n\u001b[1;32m     10\u001b[0m     \u001b[0;32mreturn\u001b[0m \u001b[0;32mFalse\u001b[0m\u001b[0;34m\u001b[0m\u001b[0;34m\u001b[0m\u001b[0m\n\u001b[1;32m     11\u001b[0m \u001b[0;34m\u001b[0m\u001b[0m\n\u001b[0;32m---> 12\u001b[0;31m \u001b[0mselect_states\u001b[0m\u001b[0;34m(\u001b[0m\u001b[0mis_second_letter_a\u001b[0m\u001b[0;34m)\u001b[0m\u001b[0;34m\u001b[0m\u001b[0;34m\u001b[0m\u001b[0m\n\u001b[0m",
            "\u001b[0;32m<ipython-input-58-70a4ce9b6eac>\u001b[0m in \u001b[0;36mselect_states\u001b[0;34m(selector_func)\u001b[0m\n\u001b[1;32m     11\u001b[0m     \u001b[0mresult\u001b[0m \u001b[0;34m=\u001b[0m \u001b[0;34m[\u001b[0m\u001b[0;34m]\u001b[0m\u001b[0;34m\u001b[0m\u001b[0;34m\u001b[0m\u001b[0m\n\u001b[1;32m     12\u001b[0m     \u001b[0;32mfor\u001b[0m \u001b[0mstate\u001b[0m \u001b[0;32min\u001b[0m \u001b[0mstate_names\u001b[0m\u001b[0;34m:\u001b[0m\u001b[0;34m\u001b[0m\u001b[0;34m\u001b[0m\u001b[0m\n\u001b[0;32m---> 13\u001b[0;31m         \u001b[0;32mif\u001b[0m \u001b[0mselector_func\u001b[0m\u001b[0;34m(\u001b[0m\u001b[0mstate\u001b[0m\u001b[0;34m)\u001b[0m\u001b[0;34m:\u001b[0m\u001b[0;34m\u001b[0m\u001b[0;34m\u001b[0m\u001b[0m\n\u001b[0m\u001b[1;32m     14\u001b[0m             \u001b[0mresult\u001b[0m\u001b[0;34m.\u001b[0m\u001b[0mappend\u001b[0m\u001b[0;34m(\u001b[0m\u001b[0mstate\u001b[0m\u001b[0;34m)\u001b[0m\u001b[0;34m\u001b[0m\u001b[0;34m\u001b[0m\u001b[0m\n\u001b[1;32m     15\u001b[0m \u001b[0;34m\u001b[0m\u001b[0m\n",
            "\u001b[0;32m<ipython-input-257-c6329966df7f>\u001b[0m in \u001b[0;36mis_second_letter_a\u001b[0;34m(word)\u001b[0m\n\u001b[1;32m      5\u001b[0m \u001b[0;32mdef\u001b[0m \u001b[0mis_second_letter_a\u001b[0m\u001b[0;34m(\u001b[0m\u001b[0mword\u001b[0m\u001b[0;34m)\u001b[0m\u001b[0;34m:\u001b[0m\u001b[0;34m\u001b[0m\u001b[0;34m\u001b[0m\u001b[0m\n\u001b[1;32m      6\u001b[0m   \u001b[0;32mfor\u001b[0m \u001b[0mletters\u001b[0m \u001b[0;32min\u001b[0m \u001b[0;34m'California'\u001b[0m\u001b[0;34m:\u001b[0m\u001b[0;34m\u001b[0m\u001b[0;34m\u001b[0m\u001b[0m\n\u001b[0;32m----> 7\u001b[0;31m     \u001b[0;32mif\u001b[0m \u001b[0mletters\u001b[0m\u001b[0;34m[\u001b[0m\u001b[0;36m1\u001b[0m\u001b[0;34m]\u001b[0m \u001b[0;34m==\u001b[0m \u001b[0;34m'a'\u001b[0m\u001b[0;34m:\u001b[0m\u001b[0;34m\u001b[0m\u001b[0;34m\u001b[0m\u001b[0m\n\u001b[0m\u001b[1;32m      8\u001b[0m       \u001b[0;32mreturn\u001b[0m \u001b[0;32mTrue\u001b[0m\u001b[0;34m\u001b[0m\u001b[0;34m\u001b[0m\u001b[0m\n\u001b[1;32m      9\u001b[0m   \u001b[0;32melse\u001b[0m\u001b[0;34m:\u001b[0m\u001b[0;34m\u001b[0m\u001b[0;34m\u001b[0m\u001b[0m\n",
            "\u001b[0;31mIndexError\u001b[0m: string index out of range"
          ]
        }
      ]
    },
    {
      "cell_type": "code",
      "metadata": {
        "id": "t8xRNVF6-Gzg",
        "colab": {
          "base_uri": "https://localhost:8080/"
        },
        "outputId": "4f1175f3-73fc-42bd-e435-6c6a86a775a2"
      },
      "source": [
        " assertion('15a', select_states(is_second_letter_a), ['California',\n",
        " 'Hawaii',\n",
        " 'Kansas',\n",
        " 'Massachusetts',\n",
        " 'Maryland',\n",
        " 'Maine',\n",
        " 'Washington'])"
      ],
      "execution_count": 253,
      "outputs": [
        {
          "output_type": "stream",
          "name": "stdout",
          "text": [
            "incorrect\n"
          ]
        }
      ]
    },
    {
      "cell_type": "code",
      "metadata": {
        "id": "w723rTgI-Gzh",
        "colab": {
          "base_uri": "https://localhost:8080/"
        },
        "outputId": "1a8e3422-537a-454b-da7c-fe0679e09d90"
      },
      "source": [
        "# hw 16\n",
        "# write a function that checks if the word is alfabetically in between K-M\n",
        "# pass that function to select_states function\n",
        "\n",
        "def in_between_K_M(word):\n",
        "    return False\n",
        "\n",
        "select_states(in_between_K_M)"
      ],
      "execution_count": 62,
      "outputs": [
        {
          "output_type": "execute_result",
          "data": {
            "text/plain": [
              "[]"
            ]
          },
          "metadata": {},
          "execution_count": 62
        }
      ]
    },
    {
      "cell_type": "code",
      "metadata": {
        "id": "XzweCXCb-Gzh",
        "colab": {
          "base_uri": "https://localhost:8080/"
        },
        "outputId": "a62f569a-07c2-48d5-b04b-9a7c5adb3ad8"
      },
      "source": [
        " assertion('16a', select_states(is_second_letter_a), ['California',\n",
        " 'Hawaii',\n",
        " 'Kansas',\n",
        " 'Massachusetts',\n",
        " 'Maryland',\n",
        " 'Maine',\n",
        " 'Washington'])\n",
        "\n",
        "assertion('16b', select_states(in_between_K_M), ['Kansas', 'Kentucky', 'Louisiana'])"
      ],
      "execution_count": 63,
      "outputs": [
        {
          "output_type": "stream",
          "name": "stdout",
          "text": [
            "incorrect\n",
            "incorrect\n"
          ]
        }
      ]
    },
    {
      "cell_type": "code",
      "metadata": {
        "id": "pBWMp4XN-Gzh",
        "colab": {
          "base_uri": "https://localhost:8080/"
        },
        "outputId": "8c6e8276-ca03-477f-f68d-d500c1aaf44d"
      },
      "source": [
        "# write an interesting function and pass it into select_states function\n",
        "def interesting_func(state):\n",
        "    return False\n",
        "\n",
        "select_states(interesting_func)"
      ],
      "execution_count": 64,
      "outputs": [
        {
          "output_type": "execute_result",
          "data": {
            "text/plain": [
              "[]"
            ]
          },
          "metadata": {},
          "execution_count": 64
        }
      ]
    },
    {
      "cell_type": "code",
      "metadata": {
        "id": "AqY8jmtU-Gzj",
        "colab": {
          "base_uri": "https://localhost:8080/",
          "height": 125
        },
        "outputId": "ed6a6aff-8ea4-452a-df26-13dcd4ff3b0c"
      },
      "source": [
        "# hw 17 - write an assertion (replace ?? with the expected result)\n",
        "\n",
        "assertion('17a', select_states(interesting_func), ??)"
      ],
      "execution_count": 65,
      "outputs": [
        {
          "output_type": "error",
          "ename": "SyntaxError",
          "evalue": "ignored",
          "traceback": [
            "\u001b[0;36m  File \u001b[0;32m\"<ipython-input-65-cb69b99aa35e>\"\u001b[0;36m, line \u001b[0;32m3\u001b[0m\n\u001b[0;31m    assertion('17a', select_states(interesting_func), ??)\u001b[0m\n\u001b[0m                                                      ^\u001b[0m\n\u001b[0;31mSyntaxError\u001b[0m\u001b[0;31m:\u001b[0m invalid syntax\n"
          ]
        }
      ]
    },
    {
      "cell_type": "markdown",
      "metadata": {
        "id": "BEOZhzqf-Gzj"
      },
      "source": [
        "# Score "
      ]
    },
    {
      "cell_type": "code",
      "metadata": {
        "id": "u71dRYyc-Gzk",
        "colab": {
          "base_uri": "https://localhost:8080/",
          "height": 34
        },
        "outputId": "31f8b61f-692b-4120-d987-2d95e3bb10cf"
      },
      "source": [
        "f'{sum(score.values())}/36'"
      ],
      "execution_count": 258,
      "outputs": [
        {
          "output_type": "execute_result",
          "data": {
            "application/vnd.google.colaboratory.intrinsic+json": {
              "type": "string"
            },
            "text/plain": [
              "'29/36'"
            ]
          },
          "metadata": {},
          "execution_count": 258
        }
      ]
    },
    {
      "cell_type": "code",
      "metadata": {
        "id": "d5zgxC81-Gzk"
      },
      "source": [
        ""
      ],
      "execution_count": null,
      "outputs": []
    },
    {
      "cell_type": "code",
      "metadata": {
        "id": "pEISy72Kr0lm"
      },
      "source": [
        ""
      ],
      "execution_count": null,
      "outputs": []
    }
  ]
}
