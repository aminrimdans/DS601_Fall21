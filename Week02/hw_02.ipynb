{
  "nbformat": 4,
  "nbformat_minor": 5,
  "metadata": {
    "kernelspec": {
      "display_name": "Python 3",
      "language": "python",
      "name": "python3"
    },
    "language_info": {
      "codemirror_mode": {
        "name": "ipython",
        "version": 3
      },
      "file_extension": ".py",
      "mimetype": "text/x-python",
      "name": "python",
      "nbconvert_exporter": "python",
      "pygments_lexer": "ipython3",
      "version": "3.8.8"
    },
    "toc": {
      "base_numbering": 1,
      "nav_menu": {},
      "number_sections": true,
      "sideBar": true,
      "skip_h1_title": false,
      "title_cell": "Table of Contents",
      "title_sidebar": "Contents",
      "toc_cell": false,
      "toc_position": {},
      "toc_section_display": true,
      "toc_window_display": false
    },
    "colab": {
      "name": "HW-02.ipynb",
      "provenance": [],
      "include_colab_link": true
    }
  },
  "cells": [
    {
      "cell_type": "markdown",
      "metadata": {
        "id": "view-in-github",
        "colab_type": "text"
      },
      "source": [
        "<a href=\"https://colab.research.google.com/github/aminrimdans/DS601_Fall21/blob/main/Week02/hw_02.ipynb\" target=\"_parent\"><img src=\"https://colab.research.google.com/assets/colab-badge.svg\" alt=\"Open In Colab\"/></a>"
      ]
    },
    {
      "cell_type": "markdown",
      "metadata": {
        "id": "425024c2"
      },
      "source": [
        "## Homework 2\n",
        "\n",
        "Please complete the functions below. These functions are for to simulate a fair and a biased die. \n",
        "\n",
        "The biased die has probabilities {0.25, 0.15, 0.15, 0.15, 0.15, 0.15}.\n",
        "\n",
        "Create 2 visualizations that shows outcomes of multiple rolls of a fair die and biased die. \n",
        "* Visualization for fair die\n",
        "* Visualization for biased die\n",
        "\n",
        "Repeat the process programatically and take the mean to create a new list. This list will be used to compare means of biased & unbiased dice. \n",
        "* Create a historgram showing means of biased & unbiased die\n",
        "\n",
        "* Use subcharts\n",
        "* All visualizations must have appropriate titles.\n",
        "* There are 3 visualization and expected format is \n",
        "```\n",
        " [V1] [V2]\n",
        " [   V3  ]\n",
        " ```"
      ],
      "id": "425024c2"
    },
    {
      "cell_type": "code",
      "metadata": {
        "id": "be4ff3e2"
      },
      "source": [
        "import random\n",
        "trial_count = 500\n",
        "\n",
        "def fair_die_simulation(trials):\n",
        "    options = [1,2,3,4,5,6]\n",
        "    simulations = []\n",
        "    for x in range(trial_count):\n",
        "        simulations += [random.randint(1,len(options))]\n",
        "    return simulations\n",
        "\n",
        "fair=fair_die_simulation(trial_count)"
      ],
      "id": "be4ff3e2",
      "execution_count": null,
      "outputs": []
    },
    {
      "cell_type": "code",
      "metadata": {
        "id": "d209b72c"
      },
      "source": [
        " simulations = []\n",
        " trial_count = 500\n",
        " options = [1,2,3,4,5,6]\n",
        "\n",
        " def biased_die_simulations(trials, weights=[0.25, 0.15, 0.15, 0.15, 0.15, 0.15]):\n",
        "     for x in range(trial_count):\n",
        "       x = 0\n",
        "       x += random.choices(options,weights=[0.25, 0.15, 0.15, 0.15, 0.15, 0.15])[0]\n",
        "       simulations.append(x)\n",
        "     return simulations\n",
        "\n",
        "biased=biased_die_simulations(trial_count)"
      ],
      "id": "d209b72c",
      "execution_count": null,
      "outputs": []
    },
    {
      "cell_type": "code",
      "metadata": {
        "id": "820b8321",
        "colab": {
          "base_uri": "https://localhost:8080/"
        },
        "outputId": "7146cea2-fd68-43c1-9c2e-ff3359a1c0ca"
      },
      "source": [
        "b = biased_mean_list = [biased.count(1)/trial_count,biased.count(2)/trial_count,biased.count(3)/trial_count,\n",
        "                    biased.count(4)/trial_count,biased.count(5)/trial_count,biased.count(6)/trial_count]\n",
        "f = fair_mean_list = [fair.count(1)/trial_count, fair.count(2)/trial_count, fair.count(3)/trial_count,\n",
        "                  fair.count(4)/trial_count, fair.count(5)/trial_count, fair.count(6)/trial_count]\n",
        "\n",
        "print(b)\n",
        "print(f)"
      ],
      "id": "820b8321",
      "execution_count": null,
      "outputs": [
        {
          "output_type": "stream",
          "name": "stdout",
          "text": [
            "[0.27, 0.162, 0.156, 0.146, 0.122, 0.144]\n",
            "[0.186, 0.196, 0.148, 0.168, 0.158, 0.144]\n"
          ]
        }
      ]
    },
    {
      "cell_type": "code",
      "metadata": {
        "id": "5bb897fa"
      },
      "source": [
        "import matplotlib.pyplot as plt"
      ],
      "id": "5bb897fa",
      "execution_count": null,
      "outputs": []
    },
    {
      "cell_type": "code",
      "metadata": {
        "colab": {
          "base_uri": "https://localhost:8080/",
          "height": 573
        },
        "id": "mVH4H4H5uCa4",
        "outputId": "0e57a31c-4253-4004-cc0f-eca28ff4874e"
      },
      "source": [
        "plt.hist(fair, bins=6, rwidth=0.9)\n",
        "plt.title('Outcome of Multiple Rolls of Fair Die')\n",
        "plt.xlabel('Numbers')\n",
        "plt.ylabel('Counts')\n",
        "plt.show()\n",
        "\n",
        "plt.hist(biased, bins=6, rwidth=0.9)\n",
        "plt.title('Outcome of Multiple Rolls of Biased Die')\n",
        "plt.xlabel('Numbers')\n",
        "plt.ylabel('Counts')\n",
        "plt.show()"
      ],
      "id": "mVH4H4H5uCa4",
      "execution_count": null,
      "outputs": [
        {
          "output_type": "display_data",
          "data": {
            "image/png": "[encoded data removed]",
            "text/plain": [
              "<Figure size 432x288 with 1 Axes>"
            ]
          },
          "metadata": {
            "needs_background": "light"
          }
        },
        {
          "output_type": "display_data",
          "data": {
            "image/png": "[encoded data removed]",
            "text/plain": [
              "<Figure size 432x288 with 1 Axes>"
            ]
          },
          "metadata": {
            "needs_background": "light"
          }
        }
      ]
    },
    {
      "cell_type": "code",
      "metadata": {
        "colab": {
          "base_uri": "https://localhost:8080/",
          "height": 281
        },
        "id": "4hXad7a7iGoO",
        "outputId": "7b82d498-0b9e-48a6-8a5f-eb911d730cd1"
      },
      "source": [
        "plt.hist([b,f]) #f is for fair and b is for biased\n",
        "plt.title('Fair Vs Biased Means')\n",
        "plt.show()"
      ],
      "id": "4hXad7a7iGoO",
      "execution_count": null,
      "outputs": [
        {
          "output_type": "display_data",
          "data": {
            "image/png": "[encoded data removed]",
            "text/plain": [
              "<Figure size 432x288 with 1 Axes>"
            ]
          },
          "metadata": {
            "needs_background": "light"
          }
        }
      ]
    }
  ]
}