{
  "nbformat": 4,
  "nbformat_minor": 0,
  "metadata": {
    "kernelspec": {
      "display_name": "Python 3",
      "language": "python",
      "name": "python3"
    },
    "language_info": {
      "codemirror_mode": {
        "name": "ipython",
        "version": 3
      },
      "file_extension": ".py",
      "mimetype": "text/x-python",
      "name": "python",
      "nbconvert_exporter": "python",
      "pygments_lexer": "ipython3",
      "version": "3.8.3"
    },
    "colab": {
      "name": "Rimdans_Amin_Assignment2.ipynb",
      "provenance": [],
      "include_colab_link": true
    }
  },
  "cells": [
    {
      "cell_type": "markdown",
      "metadata": {
        "id": "view-in-github",
        "colab_type": "text"
      },
      "source": [
        "<a href=\"https://colab.research.google.com/github/aminrimdans/DS601_Fall21/blob/main/Rimdans_Amin_Assignment2.ipynb\" target=\"_parent\"><img src=\"https://colab.research.google.com/assets/colab-badge.svg\" alt=\"Open In Colab\"/></a>"
      ]
    },
    {
      "cell_type": "markdown",
      "metadata": {
        "id": "_knt7_anuaie"
      },
      "source": [
        "# Assignment 2 (60 points - Due on Monday September 27th by 7:00 pm ET)\n",
        "\n",
        "**You are free to use any IDE you like.**\n",
        "The output of this assignment for submission should be in PDF format **AND** .py or .ipynb. The name of the file should be as follows: Lastname_Firstname_Assignment2.pdf (example: Thomas_Sunela_Assignment2.pdf) ****AND**** Lastname_Firstname_Assignment2.ipynb (example: Thomas_Sunela_Assignment2.ipynb. In short, you are submitting the python notebook as well as the pdf of that notebook.\n",
        "\n",
        "Incorrect file name will cost you points! Do NOT submit HTML code file.\n",
        "Instructions for converting a Jupyter Python notebook to PDF: Go to the menu and choose, File --> Download As --> html\n",
        "\n",
        "Open that html file and print it to PDF.\n",
        "\n",
        "**Things to note:**\n",
        "* Output of your function should be displayed."
      ]
    },
    {
      "cell_type": "markdown",
      "metadata": {
        "id": "5wdKn2wquaip"
      },
      "source": [
        "### Problem 1 (5 points)\n",
        "<span  style=\"color:purple; font-size:16px\">LESSER OF TWO EVENS: Write a function that returns the lesser of two given numbers if both the numbers are even, but returns the greater if one or both the numbers are odd.</span>\n",
        "* lesser_of_two_evens(2,4) --> 2\n",
        "* lesser_of_two_evens(2,5) --> 5"
      ]
    },
    {
      "cell_type": "code",
      "metadata": {
        "colab": {
          "base_uri": "https://localhost:8080/"
        },
        "id": "VsgugC6juaiq",
        "outputId": "f994fb56-ca8a-4330-a0ef-4c21cdc98dd6"
      },
      "source": [
        "# Answer\n",
        "\n",
        "def lesser_of_two_evens(x,y):\n",
        "  if x%2==0 and y%2==0:\n",
        "    if x < y:\n",
        "      print(x)\n",
        "    else:\n",
        "      print(y)\n",
        "  else:\n",
        "    if x%2 != 0 or y%2 != 0:\n",
        "      if x > y:\n",
        "        print(x)\n",
        "      else:\n",
        "        print(y)\n",
        "\n",
        "lesser_of_two_evens(2,4)"
      ],
      "execution_count": 1,
      "outputs": [
        {
          "output_type": "stream",
          "name": "stdout",
          "text": [
            "2\n"
          ]
        }
      ]
    },
    {
      "cell_type": "code",
      "metadata": {
        "colab": {
          "base_uri": "https://localhost:8080/"
        },
        "id": "oq8dxTlAuaiu",
        "outputId": "d33bba66-cad7-4785-be0c-d74e50856eeb"
      },
      "source": [
        "lesser_of_two_evens(2,5)"
      ],
      "execution_count": 2,
      "outputs": [
        {
          "output_type": "stream",
          "name": "stdout",
          "text": [
            "5\n"
          ]
        }
      ]
    },
    {
      "cell_type": "markdown",
      "metadata": {
        "id": "0FoMUiDcuaiv"
      },
      "source": [
        "### Problem 2 (5 points)\n",
        "<span  style=\"color:purple; font-size:16px\">MAKES TWENTY: Given two integers, return True if the sum of the integers is 20 or if one of the integers is 20. If not, return False</span>\n",
        "* makes_twenty(20,10) --> True\n",
        "* makes_twenty(12,8) --> True\n",
        "* makes_twenty(2,3) --> False"
      ]
    },
    {
      "cell_type": "code",
      "metadata": {
        "colab": {
          "base_uri": "https://localhost:8080/"
        },
        "id": "bD0UWxhtuaiw",
        "outputId": "8de2f617-0b3b-42fe-bb75-620c039d9453"
      },
      "source": [
        "# Answer\n",
        "def makes_twenty(x,y):\n",
        "  if (x+y)==20 or x==20:\n",
        "    return True\n",
        "  else:\n",
        "    return False\n",
        "\n",
        "makes_twenty(20,10)"
      ],
      "execution_count": 3,
      "outputs": [
        {
          "output_type": "execute_result",
          "data": {
            "text/plain": [
              "True"
            ]
          },
          "metadata": {},
          "execution_count": 3
        }
      ]
    },
    {
      "cell_type": "code",
      "metadata": {
        "colab": {
          "base_uri": "https://localhost:8080/"
        },
        "id": "SPY_NgjRuaix",
        "outputId": "3889bf00-cd06-4704-9369-8c56e0b084f6"
      },
      "source": [
        "makes_twenty(12,8)"
      ],
      "execution_count": 4,
      "outputs": [
        {
          "output_type": "execute_result",
          "data": {
            "text/plain": [
              "True"
            ]
          },
          "metadata": {},
          "execution_count": 4
        }
      ]
    },
    {
      "cell_type": "code",
      "metadata": {
        "colab": {
          "base_uri": "https://localhost:8080/"
        },
        "id": "NMwqkVeZuU_k",
        "outputId": "12889ec8-3e3c-41a1-97f8-0ac5de6cfb7f"
      },
      "source": [
        "makes_twenty(2,3)"
      ],
      "execution_count": 5,
      "outputs": [
        {
          "output_type": "execute_result",
          "data": {
            "text/plain": [
              "False"
            ]
          },
          "metadata": {},
          "execution_count": 5
        }
      ]
    },
    {
      "cell_type": "markdown",
      "metadata": {
        "id": "1Y7COkzPuaix"
      },
      "source": [
        "### Problem 3 (5 points)\n",
        "<span  style=\"color:purple; font-size:16px\">ALMOST THERE: Given an integer n, return True if n is within 10 of either 100 or 200</span>\n",
        "* almost_there(90) --> True\n",
        "* almost_there(104) --> True\n",
        "* almost_there(150) --> False\n",
        "* almost_there(209) --> True\n",
        "\n",
        "* NOTE: abs(num) return the absolute value of a number"
      ]
    },
    {
      "cell_type": "code",
      "metadata": {
        "colab": {
          "base_uri": "https://localhost:8080/"
        },
        "id": "DVenFZXmuaiy",
        "outputId": "6c014c82-e5f9-439d-813f-2739553cf329"
      },
      "source": [
        "# Answer\n",
        "def almost_there(x):\n",
        "  if x in range(90,111):\n",
        "    return True\n",
        "  elif x in range(190,211):\n",
        "    return True\n",
        "  else:\n",
        "    return False\n",
        "\n",
        "almost_there(90)"
      ],
      "execution_count": 6,
      "outputs": [
        {
          "output_type": "execute_result",
          "data": {
            "text/plain": [
              "True"
            ]
          },
          "metadata": {},
          "execution_count": 6
        }
      ]
    },
    {
      "cell_type": "code",
      "metadata": {
        "colab": {
          "base_uri": "https://localhost:8080/"
        },
        "id": "20kQCwZ8uaiz",
        "outputId": "b983b262-7531-41dc-a5ce-103d00ce47df"
      },
      "source": [
        "almost_there(104)"
      ],
      "execution_count": 7,
      "outputs": [
        {
          "output_type": "execute_result",
          "data": {
            "text/plain": [
              "True"
            ]
          },
          "metadata": {},
          "execution_count": 7
        }
      ]
    },
    {
      "cell_type": "code",
      "metadata": {
        "colab": {
          "base_uri": "https://localhost:8080/"
        },
        "id": "sbghrDBExYbO",
        "outputId": "94ddd633-a0e8-41a9-c636-652227bc6871"
      },
      "source": [
        "almost_there(150)"
      ],
      "execution_count": 8,
      "outputs": [
        {
          "output_type": "execute_result",
          "data": {
            "text/plain": [
              "False"
            ]
          },
          "metadata": {},
          "execution_count": 8
        }
      ]
    },
    {
      "cell_type": "code",
      "metadata": {
        "colab": {
          "base_uri": "https://localhost:8080/"
        },
        "id": "2HKmqOyWxZJW",
        "outputId": "8c074121-ba2b-445b-e39b-fe8da1b49bdf"
      },
      "source": [
        "almost_there(209)"
      ],
      "execution_count": 9,
      "outputs": [
        {
          "output_type": "execute_result",
          "data": {
            "text/plain": [
              "True"
            ]
          },
          "metadata": {},
          "execution_count": 9
        }
      ]
    },
    {
      "cell_type": "markdown",
      "metadata": {
        "id": "g0GMlNLJuai1"
      },
      "source": [
        "### Problem 4 (15 points)\n",
        "<span  style=\"color:purple; font-size:16px\">BLACKJACK: Given three integers between 1 and 11, if their sum is less than or equal to 21, return their sum. If their sum exceeds 21 and there's an 11, reduce the total sum by 10. Finally, if the sum(even after adjustment) exceeds 21, return 'BUST'</span>\n",
        "\n",
        "* blackjack(5,6,7) --> 18\n",
        "* blackjack(9,9,9) --> 'BUST'\n",
        "* blackjack(9,9,11) --> 19"
      ]
    },
    {
      "cell_type": "code",
      "metadata": {
        "colab": {
          "base_uri": "https://localhost:8080/"
        },
        "id": "I3Ch5OVduai3",
        "outputId": "e2918102-1443-4e0c-d9c0-bb8a90f7f92b"
      },
      "source": [
        "# Answer\n",
        "\n",
        "def blackjack(x,y,z):\n",
        "  sum=(x+y+z)\n",
        "  if sum <= 21:\n",
        "    return sum\n",
        "  elif sum > 21 and (x==11 or y==11 or z==11):\n",
        "    return sum-10\n",
        "  else:\n",
        "    return 'BUST'\n",
        "    \n",
        "blackjack(5,6,7)"
      ],
      "execution_count": 10,
      "outputs": [
        {
          "output_type": "execute_result",
          "data": {
            "text/plain": [
              "18"
            ]
          },
          "metadata": {},
          "execution_count": 10
        }
      ]
    },
    {
      "cell_type": "code",
      "metadata": {
        "colab": {
          "base_uri": "https://localhost:8080/",
          "height": 159
        },
        "id": "9DUs0mBBuai3",
        "outputId": "a309a1ef-41f1-43b1-e476-41384d9e5e15"
      },
      "source": [
        "blackjack(9,9,9)"
      ],
      "execution_count": 11,
      "outputs": [
        {
          "output_type": "execute_result",
          "data": {
            "application/vnd.google.colaboratory.intrinsic+json": {
              "type": "string"
            },
            "text/plain": [
              "'BUST'"
            ]
          },
          "metadata": {},
          "execution_count": 11
        }
      ]
    },
    {
      "cell_type": "code",
      "metadata": {
        "colab": {
          "base_uri": "https://localhost:8080/"
        },
        "id": "uK4iMbW7YkHS",
        "outputId": "96310ecb-9878-46e3-f7e5-9171f27b9b92"
      },
      "source": [
        "blackjack(9,9,11)"
      ],
      "execution_count": 12,
      "outputs": [
        {
          "output_type": "execute_result",
          "data": {
            "text/plain": [
              "19"
            ]
          },
          "metadata": {},
          "execution_count": 12
        }
      ]
    },
    {
      "cell_type": "markdown",
      "metadata": {
        "id": "kEA8K2Jeuai4"
      },
      "source": [
        "### Problem 5 (15 points)\n",
        "<span  style=\"color:purple; font-size:16px\">SPY_GAME: Write a function that takes in a list of integers and return True if it contains 007 in order</span>\n",
        "\n",
        "* spy_game([1,2,4,0,0,7,5]) --> True\n",
        "* spy_game([1,0,2,4,0,5,7]) --> True\n",
        "* spy_game([1,7,2,0,4,5,0]) --> False"
      ]
    },
    {
      "cell_type": "code",
      "metadata": {
        "colab": {
          "base_uri": "https://localhost:8080/"
        },
        "id": "uZUVvEOBuai4",
        "outputId": "7b4f8886-be83-45ff-d931-b85ad4d4729b"
      },
      "source": [
        "# Answer\n",
        "def spy_game(a):\n",
        "  my_list=[]\n",
        "  for i in a:\n",
        "    if i in (0,7):\n",
        "      my_list.append(str(i))\n",
        "  if '007' in ''.join(my_list):\n",
        "    return True\n",
        "  else:\n",
        "    return False\n",
        "\n",
        "spy_game([1,2,4,0,0,7,5])\n"
      ],
      "execution_count": 13,
      "outputs": [
        {
          "output_type": "execute_result",
          "data": {
            "text/plain": [
              "True"
            ]
          },
          "metadata": {},
          "execution_count": 13
        }
      ]
    },
    {
      "cell_type": "code",
      "metadata": {
        "colab": {
          "base_uri": "https://localhost:8080/"
        },
        "id": "M4zq2kGVuai5",
        "outputId": "018ba768-5ddd-4d9c-c9bc-d13fb72007d2"
      },
      "source": [
        "spy_game([1,0,2,4,0,5,7])"
      ],
      "execution_count": 14,
      "outputs": [
        {
          "output_type": "execute_result",
          "data": {
            "text/plain": [
              "True"
            ]
          },
          "metadata": {},
          "execution_count": 14
        }
      ]
    },
    {
      "cell_type": "code",
      "metadata": {
        "colab": {
          "base_uri": "https://localhost:8080/"
        },
        "id": "tmlYOdvNeD-v",
        "outputId": "97e41d9c-72e0-4e01-fb1b-34a885823673"
      },
      "source": [
        "spy_game([1,7,2,0,4,5,0])"
      ],
      "execution_count": 15,
      "outputs": [
        {
          "output_type": "execute_result",
          "data": {
            "text/plain": [
              "False"
            ]
          },
          "metadata": {},
          "execution_count": 15
        }
      ]
    },
    {
      "cell_type": "markdown",
      "metadata": {
        "id": "bCWBJN7kuai5"
      },
      "source": [
        "### Problem 6 (15 points)\n",
        "<span  style=\"color:purple; font-size:16px\">COUNT PRIMES: Write a function that returns the number of prime numbers that exist up to and including a given number</span>\n",
        "\n",
        "* count_primes(100) --> 25\n",
        "\n",
        "By convention, 0 and 1 are not prime."
      ]
    },
    {
      "cell_type": "code",
      "metadata": {
        "colab": {
          "base_uri": "https://localhost:8080/"
        },
        "id": "RG8u2oqeLIem",
        "outputId": "ada801d8-8669-4350-fa3a-35905dcd2728"
      },
      "source": [
        "n = int(input(\"Please enter the start number: \"))\n",
        "m = int(input(\"Please enter the end number: \"))\n",
        "count = 0\n",
        "for i in range(n,m):\n",
        "    if i > 1:\n",
        "        for j in range(2,i):\n",
        "            if(i % j == 0):\n",
        "                break\n",
        "        else:\n",
        "# Display prime number\n",
        "            #print(i)\n",
        "            count = count + 1\n",
        "print(count)\n"
      ],
      "execution_count": 16,
      "outputs": [
        {
          "output_type": "stream",
          "name": "stdout",
          "text": [
            "Please enter the start number: 2\n",
            "Please enter the end number: 100\n",
            "25\n"
          ]
        }
      ]
    }
  ]
}